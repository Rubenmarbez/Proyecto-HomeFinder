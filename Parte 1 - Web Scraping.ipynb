{
 "cells": [
  {
   "cell_type": "markdown",
   "metadata": {},
   "source": [
    "### Parte 1. Web Scraping"
   ]
  },
  {
   "cell_type": "code",
   "execution_count": 1,
   "metadata": {},
   "outputs": [
    {
     "name": "stdout",
     "output_type": "stream",
     "text": [
      "True\n"
     ]
    }
   ],
   "source": [
    "import requests\n",
    "from bs4 import BeautifulSoup\n",
    "import pandas as pd\n",
    "import numpy as np\n",
    "import re\n",
    "\n",
    "from Funciones_WebScrapping import *"
   ]
  },
  {
   "cell_type": "markdown",
   "metadata": {},
   "source": [
    "### Scraping realizado el 04/12/2023"
   ]
  },
  {
   "cell_type": "code",
   "execution_count": 2,
   "metadata": {},
   "outputs": [
    {
     "name": "stdout",
     "output_type": "stream",
     "text": [
      "True\n"
     ]
    }
   ],
   "source": [
    "url = \"https://www.yaencontre.com/venta/pisos/madrid/e-segunda-mano\"\n",
    "response = requests.get(url)\n",
    "print(bool(response))\n",
    "soup = BeautifulSoup(response.text, \"html.parser\")"
   ]
  },
  {
   "cell_type": "markdown",
   "metadata": {},
   "source": [
    "### 1.1 Conseguimos los títulos de los anuncios de la primera página"
   ]
  },
  {
   "cell_type": "code",
   "execution_count": 3,
   "metadata": {},
   "outputs": [
    {
     "data": {
      "text/plain": [
       "42"
      ]
     },
     "execution_count": 3,
     "metadata": {},
     "output_type": "execute_result"
    }
   ],
   "source": [
    "# Conseguimos los títulos de cada anuncio de viviendas\n",
    "titulo = soup.find('section', attrs={'class':'ThinPropertiesList'}).find_all('a', attrs={'class':'d-ellipsis'})\n",
    "len(titulo)"
   ]
  },
  {
   "cell_type": "code",
   "execution_count": 4,
   "metadata": {},
   "outputs": [
    {
     "name": "stdout",
     "output_type": "stream",
     "text": [
      "Piso en Aravaca, Madrid\n",
      "/venta/piso/inmueble-38769-100122614\n"
     ]
    }
   ],
   "source": [
    "# Título de la vivienda\n",
    "print(titulo[2]['title'])\n",
    "\n",
    "# Link de la vivienda\n",
    "print(titulo[2]['href'])"
   ]
  },
  {
   "cell_type": "markdown",
   "metadata": {},
   "source": [
    "### 1.2. Usamos la función 'get_links' para conseguir los links de todas las páginas disponibles en la web"
   ]
  },
  {
   "cell_type": "code",
   "execution_count": 5,
   "metadata": {},
   "outputs": [],
   "source": [
    "links = get_links()"
   ]
  },
  {
   "cell_type": "code",
   "execution_count": 6,
   "metadata": {},
   "outputs": [
    {
     "name": "stdout",
     "output_type": "stream",
     "text": [
      "9996\n",
      "7593\n",
      "2403\n"
     ]
    }
   ],
   "source": [
    "print(len(links)) # Links totales\n",
    "print(len(set(links))) # Links únicos\n",
    "print(len(links) - len(set(links))) # Links repetidos"
   ]
  },
  {
   "cell_type": "markdown",
   "metadata": {},
   "source": [
    "### 1.3. Conseguimos la información de cada anuncio con la función 'get_viviendas_info'"
   ]
  },
  {
   "cell_type": "code",
   "execution_count": 11,
   "metadata": {},
   "outputs": [],
   "source": [
    "df_vivienda = get_viviendas_info(links)"
   ]
  },
  {
   "cell_type": "code",
   "execution_count": 29,
   "metadata": {},
   "outputs": [
    {
     "data": {
      "text/html": [
       "<div>\n",
       "<style scoped>\n",
       "    .dataframe tbody tr th:only-of-type {\n",
       "        vertical-align: middle;\n",
       "    }\n",
       "\n",
       "    .dataframe tbody tr th {\n",
       "        vertical-align: top;\n",
       "    }\n",
       "\n",
       "    .dataframe thead th {\n",
       "        text-align: right;\n",
       "    }\n",
       "</style>\n",
       "<table border=\"1\" class=\"dataframe\">\n",
       "  <thead>\n",
       "    <tr style=\"text-align: right;\">\n",
       "      <th></th>\n",
       "      <th>Títulos</th>\n",
       "      <th>Ubicaciones</th>\n",
       "      <th>Precios</th>\n",
       "      <th>Número de habitaciones</th>\n",
       "      <th>Número de baños</th>\n",
       "      <th>Medidas</th>\n",
       "      <th>Equipamientos</th>\n",
       "      <th>Características</th>\n",
       "      <th>Consumo energético</th>\n",
       "      <th>Descripciones</th>\n",
       "      <th>Fechas de publicación</th>\n",
       "    </tr>\n",
       "  </thead>\n",
       "  <tbody>\n",
       "    <tr>\n",
       "      <th>0</th>\n",
       "      <td>Piso en venta en Pacífico de 5 habitaciones co...</td>\n",
       "      <td>Pacífico, Retiro, Madrid</td>\n",
       "      <td>565.000 €</td>\n",
       "      <td>5</td>\n",
       "      <td>2</td>\n",
       "      <td>160 m²</td>\n",
       "      <td>[Armarios empotrados, Ascensor, Balcón, Calefa...</td>\n",
       "      <td>[Combustible calefacción: gas natural, Estado:...</td>\n",
       "      <td>[Consumo, e]</td>\n",
       "      <td>Acacia Wellness ofrece en VENTA:\\n\\nPiso de 16...</td>\n",
       "      <td>25/10/2023</td>\n",
       "    </tr>\n",
       "    <tr>\n",
       "      <th>1</th>\n",
       "      <td>Piso en venta en Justicia - Chueca de 1 habita...</td>\n",
       "      <td>Justicia - Chueca, Centro, Madrid</td>\n",
       "      <td>299.990 €</td>\n",
       "      <td>1</td>\n",
       "      <td>1</td>\n",
       "      <td>84 m²</td>\n",
       "      <td>None</td>\n",
       "      <td>[Estado: buen estado, Interior / exterior: int...</td>\n",
       "      <td>None</td>\n",
       "      <td>Vivienda2 te ofrece la oportunidad de adquirir...</td>\n",
       "      <td>22/11/2023</td>\n",
       "    </tr>\n",
       "    <tr>\n",
       "      <th>2</th>\n",
       "      <td>Venta de piso en Embajadores - Lavapiés de 1 h...</td>\n",
       "      <td>Embajadores - Lavapiés, Centro, Madrid</td>\n",
       "      <td>179.000 €</td>\n",
       "      <td>1</td>\n",
       "      <td>1</td>\n",
       "      <td>57 m²</td>\n",
       "      <td>None</td>\n",
       "      <td>[Estado: buen estado, Interior / exterior: int...</td>\n",
       "      <td>None</td>\n",
       "      <td>Vivienda2 vende local habilitado como apartame...</td>\n",
       "      <td>05/12/2023</td>\n",
       "    </tr>\n",
       "    <tr>\n",
       "      <th>3</th>\n",
       "      <td>Venta de piso en Canillas de 4 habitaciones co...</td>\n",
       "      <td>Canillas, Hortaleza, Madrid</td>\n",
       "      <td>1.875.000 €</td>\n",
       "      <td>4</td>\n",
       "      <td>5</td>\n",
       "      <td>346 m²</td>\n",
       "      <td>[Aire acondicionado, Armarios empotrados, Asce...</td>\n",
       "      <td>[Aire acondicionado: otros, Año de construcció...</td>\n",
       "      <td>[Consumo, Emisiones, a]</td>\n",
       "      <td>Se vende fantastica vivienda arrendada con inq...</td>\n",
       "      <td>03/03/2023</td>\n",
       "    </tr>\n",
       "    <tr>\n",
       "      <th>4</th>\n",
       "      <td>Venta de piso en Piovera - Conde Orgaz de 4 ha...</td>\n",
       "      <td>Piovera - Conde Orgaz, Hortaleza, Madrid</td>\n",
       "      <td>1.795.000 €</td>\n",
       "      <td>4</td>\n",
       "      <td>5</td>\n",
       "      <td>291 m²</td>\n",
       "      <td>[Aire acondicionado, Amueblado, Armarios empot...</td>\n",
       "      <td>[Aire acondicionado: otros, Año de construcció...</td>\n",
       "      <td>[Consumo, Emisiones, a]</td>\n",
       "      <td>Se vende fantastica vivienda arrendada con inq...</td>\n",
       "      <td>03/03/2023</td>\n",
       "    </tr>\n",
       "  </tbody>\n",
       "</table>\n",
       "</div>"
      ],
      "text/plain": [
       "                                             Títulos  \\\n",
       "0  Piso en venta en Pacífico de 5 habitaciones co...   \n",
       "1  Piso en venta en Justicia - Chueca de 1 habita...   \n",
       "2  Venta de piso en Embajadores - Lavapiés de 1 h...   \n",
       "3  Venta de piso en Canillas de 4 habitaciones co...   \n",
       "4  Venta de piso en Piovera - Conde Orgaz de 4 ha...   \n",
       "\n",
       "                                Ubicaciones      Precios  \\\n",
       "0                  Pacífico, Retiro, Madrid    565.000 €   \n",
       "1         Justicia - Chueca, Centro, Madrid    299.990 €   \n",
       "2    Embajadores - Lavapiés, Centro, Madrid    179.000 €   \n",
       "3               Canillas, Hortaleza, Madrid  1.875.000 €   \n",
       "4  Piovera - Conde Orgaz, Hortaleza, Madrid  1.795.000 €   \n",
       "\n",
       "  Número de habitaciones Número de baños Medidas  \\\n",
       "0                      5               2  160 m²   \n",
       "1                      1               1   84 m²   \n",
       "2                      1               1   57 m²   \n",
       "3                      4               5  346 m²   \n",
       "4                      4               5  291 m²   \n",
       "\n",
       "                                       Equipamientos  \\\n",
       "0  [Armarios empotrados, Ascensor, Balcón, Calefa...   \n",
       "1                                               None   \n",
       "2                                               None   \n",
       "3  [Aire acondicionado, Armarios empotrados, Asce...   \n",
       "4  [Aire acondicionado, Amueblado, Armarios empot...   \n",
       "\n",
       "                                     Características       Consumo energético  \\\n",
       "0  [Combustible calefacción: gas natural, Estado:...             [Consumo, e]   \n",
       "1  [Estado: buen estado, Interior / exterior: int...                     None   \n",
       "2  [Estado: buen estado, Interior / exterior: int...                     None   \n",
       "3  [Aire acondicionado: otros, Año de construcció...  [Consumo, Emisiones, a]   \n",
       "4  [Aire acondicionado: otros, Año de construcció...  [Consumo, Emisiones, a]   \n",
       "\n",
       "                                       Descripciones Fechas de publicación  \n",
       "0  Acacia Wellness ofrece en VENTA:\\n\\nPiso de 16...            25/10/2023  \n",
       "1  Vivienda2 te ofrece la oportunidad de adquirir...            22/11/2023  \n",
       "2  Vivienda2 vende local habilitado como apartame...            05/12/2023  \n",
       "3  Se vende fantastica vivienda arrendada con inq...            03/03/2023  \n",
       "4  Se vende fantastica vivienda arrendada con inq...            03/03/2023  "
      ]
     },
     "execution_count": 29,
     "metadata": {},
     "output_type": "execute_result"
    }
   ],
   "source": [
    "df_vivienda.head()"
   ]
  },
  {
   "cell_type": "code",
   "execution_count": 17,
   "metadata": {},
   "outputs": [],
   "source": [
    "df_vivienda.to_csv('proyecto_viviendas.csv', index=True)"
   ]
  }
 ],
 "metadata": {
  "kernelspec": {
   "display_name": "base",
   "language": "python",
   "name": "python3"
  },
  "language_info": {
   "codemirror_mode": {
    "name": "ipython",
    "version": 3
   },
   "file_extension": ".py",
   "mimetype": "text/x-python",
   "name": "python",
   "nbconvert_exporter": "python",
   "pygments_lexer": "ipython3",
   "version": "3.11.5"
  }
 },
 "nbformat": 4,
 "nbformat_minor": 2
}
